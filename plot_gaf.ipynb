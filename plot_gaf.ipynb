{
  "nbformat": 4,
  "nbformat_minor": 0,
  "metadata": {
    "kernelspec": {
      "display_name": "Python 3",
      "language": "python",
      "name": "python3"
    },
    "language_info": {
      "codemirror_mode": {
        "name": "ipython",
        "version": 3
      },
      "file_extension": ".py",
      "mimetype": "text/x-python",
      "name": "python",
      "nbconvert_exporter": "python",
      "pygments_lexer": "ipython3",
      "version": "3.7.3"
    },
    "colab": {
      "name": "plot_gaf.ipynb",
      "provenance": []
    }
  },
  "cells": [
    {
      "cell_type": "code",
      "metadata": {
        "id": "S--YMNDZShaa"
      },
      "source": [
        "%matplotlib inline"
      ],
      "execution_count": null,
      "outputs": []
    },
    {
      "cell_type": "code",
      "metadata": {
        "colab": {
          "base_uri": "https://localhost:8080/"
        },
        "id": "3SmJSFsYf53s",
        "outputId": "ff369924-92af-41b5-d407-b3b628e67424"
      },
      "source": [
        "pip install pyts"
      ],
      "execution_count": null,
      "outputs": [
        {
          "output_type": "stream",
          "text": [
            "Collecting pyts\n",
            "\u001b[?25l  Downloading https://files.pythonhosted.org/packages/b6/2b/1a62c0d32b40ee85daa8f6a6160828537b3d846c9fe93253b38846c6ec1f/pyts-0.11.0-py3-none-any.whl (2.5MB)\n",
            "\u001b[K     |████████████████████████████████| 2.5MB 2.9MB/s \n",
            "\u001b[?25hRequirement already satisfied: joblib>=0.12 in /usr/local/lib/python3.7/dist-packages (from pyts) (1.0.1)\n",
            "Requirement already satisfied: numpy>=1.17.5 in /usr/local/lib/python3.7/dist-packages (from pyts) (1.19.5)\n",
            "Requirement already satisfied: scikit-learn>=0.22.1 in /usr/local/lib/python3.7/dist-packages (from pyts) (0.22.2.post1)\n",
            "Requirement already satisfied: scipy>=1.3.0 in /usr/local/lib/python3.7/dist-packages (from pyts) (1.4.1)\n",
            "Requirement already satisfied: numba>=0.48.0 in /usr/local/lib/python3.7/dist-packages (from pyts) (0.51.2)\n",
            "Requirement already satisfied: llvmlite<0.35,>=0.34.0.dev0 in /usr/local/lib/python3.7/dist-packages (from numba>=0.48.0->pyts) (0.34.0)\n",
            "Requirement already satisfied: setuptools in /usr/local/lib/python3.7/dist-packages (from numba>=0.48.0->pyts) (56.1.0)\n",
            "Installing collected packages: pyts\n",
            "Successfully installed pyts-0.11.0\n"
          ],
          "name": "stdout"
        }
      ]
    },
    {
      "cell_type": "code",
      "metadata": {
        "colab": {
          "base_uri": "https://localhost:8080/"
        },
        "id": "BkPF0ZEmjeyW",
        "outputId": "1a7bdf9a-9f6d-4305-e2b4-f208a8402b9a"
      },
      "source": [
        "# Connect on Drive\n",
        "from google.colab import drive\n",
        "drive.mount('/content/gdrive/')"
      ],
      "execution_count": null,
      "outputs": [
        {
          "output_type": "stream",
          "text": [
            "Mounted at /content/gdrive/\n"
          ],
          "name": "stdout"
        }
      ]
    },
    {
      "cell_type": "code",
      "metadata": {
        "id": "55zhQA_Djpe2"
      },
      "source": [
        "#Change root path to UCSB Dataset\n",
        "root_path = ('gdrive/My Drive/')"
      ],
      "execution_count": null,
      "outputs": []
    },
    {
      "cell_type": "markdown",
      "metadata": {
        "id": "Tc2bBnmYShac"
      },
      "source": [
        "\n",
        "# Gramian Angular Field\n",
        "\n",
        "\n",
        "A Gramian Angular Field is an image obtained from a time series, representing\n",
        "some temporal correlation between each time point. Two methods are\n",
        "available: Gramian Angular Summation Field and Gramian Angular Difference\n",
        "Field. This example illustrates the transformation on the first sample of\n",
        "the *GunPoint* dataset. Both images are plotted side by side to illustrate\n",
        "the differences.\n",
        "It is implemented as :class:`pyts.image.GramianAngularField`.\n"
      ]
    },
    {
      "cell_type": "code",
      "metadata": {
        "id": "-0np6vCGShac"
      },
      "source": [
        "# Author: Johann Faouzi <johann.faouzi@gmail.com>\n",
        "# License: BSD-3-Clause\n",
        "\n",
        "import matplotlib.pyplot as plt\n",
        "from mpl_toolkits.axes_grid1 import ImageGrid\n",
        "from pyts.image import GramianAngularField\n",
        "from pyts.datasets import load_gunpoint\n",
        "from numpy import genfromtxt\n",
        "\n",
        "\n",
        "# Parameters\n",
        "X = genfromtxt(root_path + 'UCSBFeatures.csv', delimiter=',')\n",
        "\n",
        "a = X[0:58, 0:300]\n",
        "\n",
        "for i in range (58):\n",
        "  b = a[i, 0:300]\n",
        "  X = b\n",
        "  X = X.reshape(3, 100)\n",
        "  # Transform the time series into Gramian Angular Fields\n",
        "  gasf = GramianAngularField(method='summation')\n",
        "  X_gasf = gasf.fit_transform(X)\n",
        "  gadf = GramianAngularField(method='difference')\n",
        "  X_gadf = gadf.fit_transform(X)\n",
        "\n",
        "\n",
        "  plt.imsave(root_path+'UCSBGRAYGASFMink'+str(i)+'.png', X_gasf[0], cmap='gray', origin='lower')\n",
        "  plt.imsave(root_path+'UCSBGRAYGASFEucl'+str(i)+'.png', X_gasf[1], cmap='gray', origin='lower')\n",
        "  plt.imsave(root_path+'UCSBGRAYGASFManh'+str(i)+'.png', X_gasf[2], cmap='gray', origin='lower')\n",
        "  plt.imsave(root_path+'UCSBGRAYGADFMink'+str(i)+'.png', X_gadf[0], cmap='gray', origin='lower')\n",
        "  plt.imsave(root_path+'UCSBGRAYGADFEucl'+str(i)+'.png', X_gasf[1], cmap='gray', origin='lower')\n",
        "  plt.imsave(root_path+'UCSBGRAYGADFManh'+str(i)+'.png', X_gasf[2], cmap='gray', origin='lower')\n",
        "\n"
      ],
      "execution_count": null,
      "outputs": []
    }
  ]
}